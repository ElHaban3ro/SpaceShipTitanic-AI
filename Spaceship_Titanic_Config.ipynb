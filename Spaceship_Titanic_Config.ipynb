{
  "nbformat": 4,
  "nbformat_minor": 0,
  "metadata": {
    "colab": {
      "name": "Spaceship_Titanic_Config.ipynb",
      "provenance": [],
      "collapsed_sections": []
    },
    "kernelspec": {
      "name": "python3",
      "display_name": "Python 3"
    },
    "language_info": {
      "name": "python"
    },
    "gpuClass": "standard"
  },
  "cells": [
    {
      "cell_type": "code",
      "source": [
        "import pandas as pd\n",
        "\n",
        "def read_file(traincsv, testcsv):\n",
        "  f_train = pd.read_csv(traincsv)\n",
        "  f_test = pd.read_csv(testcsv)\n",
        "  return f_train, f_test\n",
        "\n",
        "\n",
        "\n",
        "train_data, test_data = read_file('train.csv', 'test.csv')\n",
        "\n",
        "print(train_data)"
      ],
      "metadata": {
        "id": "ub1b2YQwcPZj",
        "colab": {
          "base_uri": "https://localhost:8080/"
        },
        "outputId": "aae4fb4b-229a-487e-b3ca-e790114d991a"
      },
      "execution_count": 106,
      "outputs": [
        {
          "output_type": "stream",
          "name": "stdout",
          "text": [
            "     PassengerId HomePlanet CryoSleep     Cabin    Destination   Age    VIP  \\\n",
            "0        0001_01     Europa     False     B/0/P    TRAPPIST-1e  39.0  False   \n",
            "1        0002_01      Earth     False     F/0/S    TRAPPIST-1e  24.0  False   \n",
            "2        0003_01     Europa     False     A/0/S    TRAPPIST-1e  58.0   True   \n",
            "3        0003_02     Europa     False     A/0/S    TRAPPIST-1e  33.0  False   \n",
            "4        0004_01      Earth     False     F/1/S    TRAPPIST-1e  16.0  False   \n",
            "...          ...        ...       ...       ...            ...   ...    ...   \n",
            "8688     9276_01     Europa     False    A/98/P    55 Cancri e  41.0   True   \n",
            "8689     9278_01      Earth      True  G/1499/S  PSO J318.5-22  18.0  False   \n",
            "8690     9279_01      Earth     False  G/1500/S    TRAPPIST-1e  26.0  False   \n",
            "8691     9280_01     Europa     False   E/608/S    55 Cancri e  32.0  False   \n",
            "8692     9280_02     Europa     False   E/608/S    TRAPPIST-1e  44.0  False   \n",
            "\n",
            "      RoomService  FoodCourt  ShoppingMall     Spa  VRDeck               Name  \\\n",
            "0             0.0        0.0           0.0     0.0     0.0    Maham Ofracculy   \n",
            "1           109.0        9.0          25.0   549.0    44.0       Juanna Vines   \n",
            "2            43.0     3576.0           0.0  6715.0    49.0      Altark Susent   \n",
            "3             0.0     1283.0         371.0  3329.0   193.0       Solam Susent   \n",
            "4           303.0       70.0         151.0   565.0     2.0  Willy Santantines   \n",
            "...           ...        ...           ...     ...     ...                ...   \n",
            "8688          0.0     6819.0           0.0  1643.0    74.0  Gravior Noxnuther   \n",
            "8689          0.0        0.0           0.0     0.0     0.0    Kurta Mondalley   \n",
            "8690          0.0        0.0        1872.0     1.0     0.0       Fayey Connon   \n",
            "8691          0.0     1049.0           0.0   353.0  3235.0   Celeon Hontichre   \n",
            "8692        126.0     4688.0           0.0     0.0    12.0   Propsh Hontichre   \n",
            "\n",
            "      Transported  \n",
            "0           False  \n",
            "1            True  \n",
            "2           False  \n",
            "3           False  \n",
            "4            True  \n",
            "...           ...  \n",
            "8688        False  \n",
            "8689        False  \n",
            "8690         True  \n",
            "8691        False  \n",
            "8692         True  \n",
            "\n",
            "[8693 rows x 14 columns]\n"
          ]
        }
      ]
    },
    {
      "cell_type": "markdown",
      "source": [
        "Now we need to choose a method to validate the information. For this purpose we want to obtain the precision on the test data.\n",
        "\n",
        "***- CHOOSE AN ASSESSMENT METHOD:***\n",
        "\n",
        "In this case, since we have enough data to train and validate, we will use a reserve for testing.\n",
        "\n",
        "\n",
        "***- PREPARING OUR DATA:***"
      ],
      "metadata": {
        "id": "niV1ZsONDPB8"
      }
    },
    {
      "cell_type": "code",
      "source": [
        "import numpy as np\n",
        "from sklearn import preprocessing as pp\n",
        "\n",
        "\n",
        "# Train data\n",
        "\n",
        "train_data = train_data.drop(['HomePlanet', 'Cabin', 'PassengerId', 'Destination', 'VIP', 'RoomService', 'FoodCourt', 'ShoppingMall', 'Spa', 'VRDeck', 'Name'], axis = 1)\n",
        "train_data['CryoSleep'] = train_data['CryoSleep'].fillna(False)\n",
        "train_data['Age'] = train_data['Age'].fillna(False)\n",
        "\n",
        "\n",
        "\n",
        "train_labels = tuple(train_data['Transported'].apply(int))[:8000]\n",
        "\n",
        "train_data = train_data.drop(columns = 'Transported')\n",
        "\n",
        "train_data['CryoSleep'] = train_data['CryoSleep'].astype(int)\n",
        "\n",
        "\n",
        "train_data = pp.normalize(train_data)\n",
        "\n",
        "# train_data = train_data.values.tolist()\n",
        "\n",
        "\n",
        "train_data = train_data[:8000]\n",
        "\n",
        "\n",
        "\n",
        "\n",
        "\n",
        "# Test\n",
        "# test_labels = tuple(test_data['Transported'].apply(int))[:8000]\n",
        "# test_data = test_data.drop(columns = 'Transported')\n",
        "\n",
        "\n",
        "test_data['CryoSleep'] = test_data['CryoSleep'].fillna(False)\n",
        "test_data['Age'] = test_data['Age'].fillna(False)\n",
        "\n",
        "\n",
        "test_data['CryoSleep'] = test_data['CryoSleep'].astype(int)\n",
        "test_data = test_data.drop(['HomePlanet', 'Cabin', 'PassengerId', 'Destination', 'VIP', 'RoomService', 'FoodCourt', 'ShoppingMall', 'Spa', 'VRDeck', 'Name'], axis = 1)\n",
        "\n",
        "test_data = test_data.values.tolist()\n",
        "\n",
        "test_data = test_data[:8000]\n",
        "\n",
        "\n",
        "\n",
        "\n",
        "\n",
        "# print(test_data)\n",
        "print(train_data)\n",
        "\n",
        "\n",
        "# print(len(test_data))"
      ],
      "metadata": {
        "id": "F7MszuiwdTW8",
        "colab": {
          "base_uri": "https://localhost:8080/"
        },
        "outputId": "08ebb356-5d41-46ef-a53f-f6342f7d7a82"
      },
      "execution_count": 107,
      "outputs": [
        {
          "output_type": "stream",
          "name": "stdout",
          "text": [
            "[[0.         1.        ]\n",
            " [0.         1.        ]\n",
            " [0.         1.        ]\n",
            " ...\n",
            " [0.0256326  0.99967143]\n",
            " [0.02499219 0.99968765]\n",
            " [0.         1.        ]]\n"
          ]
        }
      ]
    },
    {
      "cell_type": "markdown",
      "source": [
        "\n",
        "\n",
        "![image.png](data:image/png;base64,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)"
      ],
      "metadata": {
        "id": "Ni-5zPcjbUZN"
      }
    },
    {
      "cell_type": "code",
      "source": [
        "from keras import models, layers, regularizers\n",
        "\n",
        "\n",
        "def building_model():\n",
        "  model = models.Sequential()\n",
        "\n",
        "  model.add(layers.Dense(units = 50, activation = 'relu', input_shape = (2,)))\n",
        "  model.add(layers.Dropout(0.2))\n",
        "\n",
        "\n",
        "\n",
        "  model.add(layers.Dense(units = 50, activation = 'relu'))\n",
        "  model.add(layers.Dropout(0.2))\n",
        "\n",
        "\n",
        "\n",
        "  model.add(layers.Dense(units = 1, activation = 'sigmoid'))\n",
        "\n",
        "\n",
        "  return model\n"
      ],
      "metadata": {
        "id": "-3Qs0v0zb6qW"
      },
      "execution_count": 108,
      "outputs": []
    },
    {
      "cell_type": "code",
      "source": [
        "# Entrenamiento\n",
        "x_train = np.array((train_data)) # Para entrenamiento.\n",
        "x_labels = np.array((train_labels))\n",
        "\n",
        "\n",
        "# Validación.\n",
        "\n",
        "\n",
        "# Prueba final!\n",
        "test_data = test_data[:4000]"
      ],
      "metadata": {
        "id": "Uma3Yh1EmbI2"
      },
      "execution_count": 109,
      "outputs": []
    },
    {
      "cell_type": "markdown",
      "source": [
        "***- Model (Configured, although very configurable it is not considerably better):***"
      ],
      "metadata": {
        "id": "bKb3_JK9dTCY"
      }
    },
    {
      "cell_type": "code",
      "source": [
        "from keras.callbacks import EarlyStopping\n",
        "model = building_model()\n",
        "import tensorflow as tf\n",
        "\n",
        "\n",
        "opt = tf.keras.optimizers.Adam(beta_1 = 0.9, learning_rate = 0.001)\n",
        "model.compile(optimizer = opt,\n",
        "              loss = 'mse',\n",
        "              metrics = ['acc'])\n",
        "epochs_var = 72\n",
        "\n",
        "es = EarlyStopping(monitor = 'loss', mode = 'min', verbose = 1, patience = 150)\n",
        "fitModel = model.fit(x_train, x_labels,\n",
        "                     epochs = epochs_var,\n",
        "                     batch_size = 71,\n",
        "                     callbacks = [es])\n",
        "\n",
        "\n",
        "\n",
        "print(fitModel.history.keys())"
      ],
      "metadata": {
        "colab": {
          "base_uri": "https://localhost:8080/"
        },
        "id": "Le-QrUN_dJps",
        "outputId": "b6b3f00c-7725-47e9-9eb7-2a761fb53f40"
      },
      "execution_count": 110,
      "outputs": [
        {
          "output_type": "stream",
          "name": "stdout",
          "text": [
            "Epoch 1/72\n",
            "113/113 [==============================] - 1s 2ms/step - loss: 0.2478 - acc: 0.5303\n",
            "Epoch 2/72\n",
            "113/113 [==============================] - 0s 2ms/step - loss: 0.2456 - acc: 0.5479\n",
            "Epoch 3/72\n",
            "113/113 [==============================] - 0s 3ms/step - loss: 0.2406 - acc: 0.5993\n",
            "Epoch 4/72\n",
            "113/113 [==============================] - 0s 2ms/step - loss: 0.2352 - acc: 0.6240\n",
            "Epoch 5/72\n",
            "113/113 [==============================] - 0s 2ms/step - loss: 0.2258 - acc: 0.6650\n",
            "Epoch 6/72\n",
            "113/113 [==============================] - 0s 2ms/step - loss: 0.2171 - acc: 0.6925\n",
            "Epoch 7/72\n",
            "113/113 [==============================] - 0s 2ms/step - loss: 0.2111 - acc: 0.7089\n",
            "Epoch 8/72\n",
            "113/113 [==============================] - 0s 2ms/step - loss: 0.2068 - acc: 0.7151\n",
            "Epoch 9/72\n",
            "113/113 [==============================] - 0s 2ms/step - loss: 0.2047 - acc: 0.7156\n",
            "Epoch 10/72\n",
            "113/113 [==============================] - 0s 2ms/step - loss: 0.2051 - acc: 0.7161\n",
            "Epoch 11/72\n",
            "113/113 [==============================] - 0s 2ms/step - loss: 0.2044 - acc: 0.7181\n",
            "Epoch 12/72\n",
            "113/113 [==============================] - 0s 2ms/step - loss: 0.2040 - acc: 0.7188\n",
            "Epoch 13/72\n",
            "113/113 [==============================] - 0s 2ms/step - loss: 0.2041 - acc: 0.7182\n",
            "Epoch 14/72\n",
            "113/113 [==============================] - 0s 2ms/step - loss: 0.2034 - acc: 0.7191\n",
            "Epoch 15/72\n",
            "113/113 [==============================] - 0s 2ms/step - loss: 0.2030 - acc: 0.7190\n",
            "Epoch 16/72\n",
            "113/113 [==============================] - 0s 3ms/step - loss: 0.2029 - acc: 0.7193\n",
            "Epoch 17/72\n",
            "113/113 [==============================] - 0s 3ms/step - loss: 0.2026 - acc: 0.7189\n",
            "Epoch 18/72\n",
            "113/113 [==============================] - 0s 2ms/step - loss: 0.2034 - acc: 0.7175\n",
            "Epoch 19/72\n",
            "113/113 [==============================] - 0s 2ms/step - loss: 0.2027 - acc: 0.7190\n",
            "Epoch 20/72\n",
            "113/113 [==============================] - 0s 2ms/step - loss: 0.2034 - acc: 0.7180\n",
            "Epoch 21/72\n",
            "113/113 [==============================] - 0s 2ms/step - loss: 0.2027 - acc: 0.7188\n",
            "Epoch 22/72\n",
            "113/113 [==============================] - 0s 2ms/step - loss: 0.2024 - acc: 0.7186\n",
            "Epoch 23/72\n",
            "113/113 [==============================] - 0s 2ms/step - loss: 0.2022 - acc: 0.7190\n",
            "Epoch 24/72\n",
            "113/113 [==============================] - 0s 2ms/step - loss: 0.2024 - acc: 0.7156\n",
            "Epoch 25/72\n",
            "113/113 [==============================] - 0s 2ms/step - loss: 0.2030 - acc: 0.7186\n",
            "Epoch 26/72\n",
            "113/113 [==============================] - 0s 2ms/step - loss: 0.2024 - acc: 0.7182\n",
            "Epoch 27/72\n",
            "113/113 [==============================] - 0s 2ms/step - loss: 0.2018 - acc: 0.7181\n",
            "Epoch 28/72\n",
            "113/113 [==============================] - 0s 2ms/step - loss: 0.2015 - acc: 0.7189\n",
            "Epoch 29/72\n",
            "113/113 [==============================] - 0s 2ms/step - loss: 0.2017 - acc: 0.7184\n",
            "Epoch 30/72\n",
            "113/113 [==============================] - 0s 2ms/step - loss: 0.2016 - acc: 0.7189\n",
            "Epoch 31/72\n",
            "113/113 [==============================] - 0s 2ms/step - loss: 0.2014 - acc: 0.7188\n",
            "Epoch 32/72\n",
            "113/113 [==============================] - 0s 2ms/step - loss: 0.2020 - acc: 0.7185\n",
            "Epoch 33/72\n",
            "113/113 [==============================] - 0s 2ms/step - loss: 0.2017 - acc: 0.7185\n",
            "Epoch 34/72\n",
            "113/113 [==============================] - 0s 2ms/step - loss: 0.2011 - acc: 0.7182\n",
            "Epoch 35/72\n",
            "113/113 [==============================] - 0s 2ms/step - loss: 0.2008 - acc: 0.7181\n",
            "Epoch 36/72\n",
            "113/113 [==============================] - 0s 2ms/step - loss: 0.2002 - acc: 0.7184\n",
            "Epoch 37/72\n",
            "113/113 [==============================] - 0s 2ms/step - loss: 0.2006 - acc: 0.7176\n",
            "Epoch 38/72\n",
            "113/113 [==============================] - 0s 2ms/step - loss: 0.2009 - acc: 0.7179\n",
            "Epoch 39/72\n",
            "113/113 [==============================] - 0s 2ms/step - loss: 0.2009 - acc: 0.7180\n",
            "Epoch 40/72\n",
            "113/113 [==============================] - 0s 2ms/step - loss: 0.2001 - acc: 0.7191\n",
            "Epoch 41/72\n",
            "113/113 [==============================] - 0s 2ms/step - loss: 0.1996 - acc: 0.7184\n",
            "Epoch 42/72\n",
            "113/113 [==============================] - 0s 2ms/step - loss: 0.1988 - acc: 0.7182\n",
            "Epoch 43/72\n",
            "113/113 [==============================] - 0s 2ms/step - loss: 0.2002 - acc: 0.7176\n",
            "Epoch 44/72\n",
            "113/113 [==============================] - 0s 3ms/step - loss: 0.1997 - acc: 0.7165\n",
            "Epoch 45/72\n",
            "113/113 [==============================] - 0s 2ms/step - loss: 0.1993 - acc: 0.7193\n",
            "Epoch 46/72\n",
            "113/113 [==============================] - 0s 2ms/step - loss: 0.1988 - acc: 0.7185\n",
            "Epoch 47/72\n",
            "113/113 [==============================] - 0s 2ms/step - loss: 0.1995 - acc: 0.7184\n",
            "Epoch 48/72\n",
            "113/113 [==============================] - 0s 2ms/step - loss: 0.1994 - acc: 0.7186\n",
            "Epoch 49/72\n",
            "113/113 [==============================] - 0s 2ms/step - loss: 0.1992 - acc: 0.7175\n",
            "Epoch 50/72\n",
            "113/113 [==============================] - 0s 2ms/step - loss: 0.1998 - acc: 0.7166\n",
            "Epoch 51/72\n",
            "113/113 [==============================] - 0s 2ms/step - loss: 0.1997 - acc: 0.7175\n",
            "Epoch 52/72\n",
            "113/113 [==============================] - 0s 2ms/step - loss: 0.1998 - acc: 0.7185\n",
            "Epoch 53/72\n",
            "113/113 [==============================] - 0s 2ms/step - loss: 0.1987 - acc: 0.7175\n",
            "Epoch 54/72\n",
            "113/113 [==============================] - 0s 2ms/step - loss: 0.1989 - acc: 0.7174\n",
            "Epoch 55/72\n",
            "113/113 [==============================] - 0s 2ms/step - loss: 0.1992 - acc: 0.7182\n",
            "Epoch 56/72\n",
            "113/113 [==============================] - 0s 2ms/step - loss: 0.1986 - acc: 0.7174\n",
            "Epoch 57/72\n",
            "113/113 [==============================] - 0s 2ms/step - loss: 0.1987 - acc: 0.7190\n",
            "Epoch 58/72\n",
            "113/113 [==============================] - 0s 2ms/step - loss: 0.1994 - acc: 0.7186\n",
            "Epoch 59/72\n",
            "113/113 [==============================] - 0s 2ms/step - loss: 0.1987 - acc: 0.7182\n",
            "Epoch 60/72\n",
            "113/113 [==============================] - 0s 2ms/step - loss: 0.1991 - acc: 0.7155\n",
            "Epoch 61/72\n",
            "113/113 [==============================] - 0s 2ms/step - loss: 0.1989 - acc: 0.7174\n",
            "Epoch 62/72\n",
            "113/113 [==============================] - 0s 2ms/step - loss: 0.1980 - acc: 0.7185\n",
            "Epoch 63/72\n",
            "113/113 [==============================] - 0s 2ms/step - loss: 0.1989 - acc: 0.7176\n",
            "Epoch 64/72\n",
            "113/113 [==============================] - 0s 2ms/step - loss: 0.1989 - acc: 0.7184\n",
            "Epoch 65/72\n",
            "113/113 [==============================] - 0s 2ms/step - loss: 0.1982 - acc: 0.7186\n",
            "Epoch 66/72\n",
            "113/113 [==============================] - 0s 2ms/step - loss: 0.1989 - acc: 0.7175\n",
            "Epoch 67/72\n",
            "113/113 [==============================] - 0s 2ms/step - loss: 0.1992 - acc: 0.7190\n",
            "Epoch 68/72\n",
            "113/113 [==============================] - 0s 2ms/step - loss: 0.1990 - acc: 0.7191\n",
            "Epoch 69/72\n",
            "113/113 [==============================] - 0s 2ms/step - loss: 0.1983 - acc: 0.7189\n",
            "Epoch 70/72\n",
            "113/113 [==============================] - 0s 2ms/step - loss: 0.1987 - acc: 0.7185\n",
            "Epoch 71/72\n",
            "113/113 [==============================] - 0s 2ms/step - loss: 0.1992 - acc: 0.7178\n",
            "Epoch 72/72\n",
            "113/113 [==============================] - 0s 2ms/step - loss: 0.1992 - acc: 0.7189\n",
            "dict_keys(['loss', 'acc'])\n"
          ]
        }
      ]
    },
    {
      "cell_type": "code",
      "source": [
        "import matplotlib.pyplot as plt\n",
        "\n",
        "\n",
        "plt.figure(figsize=(20, 12))\n",
        "plt.figure()\n",
        "plt.xlabel(\"Epoch\")\n",
        "plt.ylabel(\"Magnitud de pérdida\")\n",
        "plt.plot(fitModel.history[\"loss\"])\n",
        "plt.grid()\n",
        "plt.savefig('2.png')\n",
        "\n",
        "plt.show()"
      ],
      "metadata": {
        "colab": {
          "base_uri": "https://localhost:8080/",
          "height": 299
        },
        "id": "A2qS7tpjBQjv",
        "outputId": "d7b65377-929e-4fde-ea56-7c0b3e25cfa8"
      },
      "execution_count": 111,
      "outputs": [
        {
          "output_type": "display_data",
          "data": {
            "text/plain": [
              "<Figure size 1440x864 with 0 Axes>"
            ]
          },
          "metadata": {}
        },
        {
          "output_type": "display_data",
          "data": {
            "text/plain": [
              "<Figure size 432x288 with 1 Axes>"
            ],
            "image/png": "[encoded data removed]"
          },
          "metadata": {
            "needs_background": "light"
          }
        }
      ]
    },
    {
      "cell_type": "markdown",
      "source": [
        "***- MODEL THAT EXCEEDS A CONSIDERABLE LINE***\n",
        "\n",
        "> Looking a bit at the dataset and what can be achieved, it seems that the loss line and the precision line are stuck near the same point according to each line: This can happen for several reasons: I have not prepared the data correctly (this is half statement half hypothesis, because I only receive 2 parameters from the entire network, so possibly the stagnation is due to that. I will polish these types of problems a little more when I have more experience). Or the 2nd reason: Directly proportional to how I prepared the data, this is your safe limit, a limit where there seems to be little room for improvement."
      ],
      "metadata": {
        "id": "vA8LHs5cFBqM"
      }
    },
    {
      "cell_type": "code",
      "source": [
        "generate_predictions = model.predict(test_data[0:80])\n",
        "\n",
        "a = []\n",
        "# print(f'Hemos generado para tus inputs las siguientes predicciones {generate_predictions}, con una forma {generate_predictions.shape}')\n",
        "\n",
        "for prediction in generate_predictions:\n",
        "  a.append(float(prediction))\n",
        "\n",
        "print(a)\n",
        "model.save('TeleporterModel.h5') # Con este modelo entrenado podemos hacer predicciones sin volver a ejecutar nada.\n"
      ],
      "metadata": {
        "colab": {
          "base_uri": "https://localhost:8080/"
        },
        "id": "VKvWiHyuPHOv",
        "outputId": "c8ab26f9-db1f-4ad0-d17b-46872c44c2f1"
      },
      "execution_count": 115,
      "outputs": [
        {
          "output_type": "stream",
          "name": "stdout",
          "text": [
            "[0.9781287908554077, 0.008898317813873291, 0.19464603066444397, 0.00010290596401318908, 0.007048487663269043, 0.0005353689193725586, 0.9989632368087769, 0.999313473701477, 0.9979116916656494, 0.0027660727500915527, 0.008898317813873291, 1.9683560822159052e-05, 2.493004831194412e-05, 1.3363284779188689e-05, 0.00558096170425415, 0.0013689398765563965, 0.007048487663269043, 1.247377076651901e-05, 0.0008561909198760986, 6.415067764464766e-05, 0.0006770193576812744, 0.028240442276000977, 0.19464603066444397, 0.0013689398765563965, 1.3775020590856002e-07, 0.0027660727500915527, 0.008898317813873291, 0.00025579333305358887, 0.00558096170425415, 0.999699056148529, 0.9899880886077881, 0.008898317813873291, 1.5115502719709184e-05, 0.0034959912300109863, 0.0027660727500915527, 0.008898317813873291, 0.9974188804626465, 0.0013689398765563965, 0.9815599322319031, 0.00033473968505859375, 0.0034959912300109863, 0.0006770193576812744, 0.5474740266799927, 0.3266339600086212, 0.007048487663269043, 0.9998008012771606, 0.00026470422744750977, 0.0027660727500915527, 0.0008561909198760986, 0.007048487663269043, 0.9695590734481812, 0.9984345436096191, 0.01784205436706543, 0.9907838702201843, 0.00016507506370544434, 0.0017308294773101807, 6.415067764464766e-05, 0.8605054020881653, 0.9719532132148743, 0.0034959912300109863, 0.5474740266799927, 0.0006770193576812744, 1.4631480098614702e-06, 0.00025579333305358887, 2.4846240194165148e-05, 0.008898317813873291, 1.4817108421993908e-05, 0.00010290596401318908, 0.5474740266799927, 0.00020900368690490723, 0.0017308294773101807, 0.0005353689193725586, 0.00010290596401318908, 0.0013689398765563965, 0.5252252817153931, 0.004417687654495239, 0.8605054020881653, 0.9991958737373352, 0.10447782278060913, 0.9597139358520508]\n"
          ]
        }
      ]
    }
  ]
}